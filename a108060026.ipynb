{
  "nbformat": 4,
  "nbformat_minor": 0,
  "metadata": {
    "colab": {
      "name": "a108060026.ipynb",
      "provenance": []
    },
    "kernelspec": {
      "name": "python3",
      "display_name": "Python 3"
    }
  },
  "cells": [
    {
      "cell_type": "code",
      "metadata": {
        "id": "kvdLWXINu6G8",
        "colab_type": "code",
        "colab": {
          "base_uri": "https://localhost:8080/",
          "height": 85
        },
        "outputId": "0df2c971-276a-445c-fd4e-d030fc0cfd2d"
      },
      "source": [
        "weight=float(input(\"請輸入你的體重(KG)?\"))\n",
        "height=float(input(\"請輸入你的身高(M)\"))\n",
        "\n",
        "bmi=weight/(height*height)\n",
        "\n",
        "print(\"BMI指數為\",bmi)\n",
        "\n",
        "if bmi<18:\n",
        "  print(\"你的體重過輕囉！請注意飲食的均衡，否則容易導致營養不良、骨質疏鬆、猝死等健康問題喔～\")\n",
        "elif bmi<24:\n",
        "  print(\"你的體重很正常，繼續保持喔！\")\n",
        "elif bmi<27:\n",
        "  print(\"你的體重有點過重了，要注意飲食的控制及保持運動的好習慣才行！\")\n",
        "else:\n",
        "  print(\"你的體重已經過重囉！趕快動起來別再躺床了！\")"
      ],
      "execution_count": 3,
      "outputs": [
        {
          "output_type": "stream",
          "text": [
            "請輸入你的體重(KG)?48\n",
            "請輸入你的身高(M)1.68\n",
            "BMI指數為 17.006802721088437\n",
            "你的體重過輕囉！請注意飲食的均衡，否則容易導致營養不良、骨質疏鬆、猝死等健康問題喔～\n"
          ],
          "name": "stdout"
        }
      ]
    },
    {
      "cell_type": "code",
      "metadata": {
        "id": "sNK8UuDZzBhi",
        "colab_type": "code",
        "colab": {
          "base_uri": "https://localhost:8080/",
          "height": 68
        },
        "outputId": "92ad2c2a-53c8-4f66-8d13-f32674312065"
      },
      "source": [
        "secret_number=20\n",
        "guess_number=int(input(\"Guess between 1 and 100?\"))\n",
        "\n",
        "if guess_number==secret_number:\n",
        "  print(\"Your guess is right!\")\n",
        "else:\n",
        "  print(\"Your guess is wrong!\")\n",
        "  if guess_number > secret_number:\n",
        "    print(\"Your guess is too high!Please guess lower~\")\n",
        "  else:\n",
        "    print(\"Your guess is too low!Please guess higher~\")"
      ],
      "execution_count": 15,
      "outputs": [
        {
          "output_type": "stream",
          "text": [
            "Guess between 1 and 100?50\n",
            "Your guess is wrong!\n",
            "Your guess is too high!Please guess lower~\n"
          ],
          "name": "stdout"
        }
      ]
    },
    {
      "cell_type": "code",
      "metadata": {
        "id": "Wm5iiY_C3r5q",
        "colab_type": "code",
        "colab": {
          "base_uri": "https://localhost:8080/",
          "height": 51
        },
        "outputId": "421c7dae-aef7-448f-f45a-fcc640bd22e9"
      },
      "source": [
        "n=5\n",
        "while n<10:\n",
        "  print(n,\"n小於10!\")\n",
        "  n=100\n",
        "n=50\n",
        "print(n)"
      ],
      "execution_count": 13,
      "outputs": [
        {
          "output_type": "stream",
          "text": [
            "5 n小於10!\n",
            "50\n"
          ],
          "name": "stdout"
        }
      ]
    },
    {
      "cell_type": "code",
      "metadata": {
        "id": "6QwBYO128kpd",
        "colab_type": "code",
        "colab": {
          "base_uri": "https://localhost:8080/",
          "height": 136
        },
        "outputId": "ad4bbe73-3c05-41a2-a295-47218e5455b3"
      },
      "source": [
        "n=1\n",
        "while n<6:\n",
        "  print(n)\n",
        "  n=n+1\n",
        "\n",
        "print(\"n=\",n)\n",
        "print(\"Finished\")"
      ],
      "execution_count": 18,
      "outputs": [
        {
          "output_type": "stream",
          "text": [
            "1\n",
            "2\n",
            "3\n",
            "4\n",
            "5\n",
            "n= 6\n",
            "Finished\n"
          ],
          "name": "stdout"
        }
      ]
    },
    {
      "cell_type": "code",
      "metadata": {
        "id": "v0GtS423-KQi",
        "colab_type": "code",
        "colab": {
          "base_uri": "https://localhost:8080/",
          "height": 289
        },
        "outputId": "f0ec5891-5e45-4983-f401-2de5b8c5ead6"
      },
      "source": [
        "secret_number=52\n",
        "n=input(\"guess between 1 and 100?\")\n",
        "n=int(n)\n",
        "\n",
        "while(n!=secret_number):\n",
        "  if n>secret_number:\n",
        "    print(\"Your guess is too high!Please guess lower~\")\n",
        "  else:\n",
        "    print(\"Your guess is too low!Please guess higher~\")\n",
        "  n=int(input(\"guess again!\"))\n",
        "\n",
        "print(\"Congratulations!\")"
      ],
      "execution_count": 22,
      "outputs": [
        {
          "output_type": "stream",
          "text": [
            "guess between 1 and 100?1\n",
            "Your guess is too low!Please guess higher~\n",
            "guess again!88\n",
            "Your guess is too high!Please guess lower~\n",
            "guess again!44\n",
            "Your guess is too low!Please guess higher~\n",
            "guess again!66\n",
            "Your guess is too high!Please guess lower~\n",
            "guess again!55\n",
            "Your guess is too high!Please guess lower~\n",
            "guess again!46\n",
            "Your guess is too low!Please guess higher~\n",
            "guess again!49\n",
            "Your guess is too low!Please guess higher~\n",
            "guess again!52\n",
            "Congratulations!\n"
          ],
          "name": "stdout"
        }
      ]
    },
    {
      "cell_type": "code",
      "metadata": {
        "id": "ZGkhhH7AAkRZ",
        "colab_type": "code",
        "colab": {
          "base_uri": "https://localhost:8080/",
          "height": 187
        },
        "outputId": "ad2cf473-73bf-420a-8db5-a5a77e5c268d"
      },
      "source": [
        "n=0\n",
        "while n<10:\n",
        "  n=n+1\n",
        "  print(\"這是第\",n,\"次的hello\")"
      ],
      "execution_count": 24,
      "outputs": [
        {
          "output_type": "stream",
          "text": [
            "這是第 1 次的hello\n",
            "這是第 2 次的hello\n",
            "這是第 3 次的hello\n",
            "這是第 4 次的hello\n",
            "這是第 5 次的hello\n",
            "這是第 6 次的hello\n",
            "這是第 7 次的hello\n",
            "這是第 8 次的hello\n",
            "這是第 9 次的hello\n",
            "這是第 10 次的hello\n"
          ],
          "name": "stdout"
        }
      ]
    }
  ]
}