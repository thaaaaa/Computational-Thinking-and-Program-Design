{
  "nbformat": 4,
  "nbformat_minor": 0,
  "metadata": {
    "colab": {
      "name": "A108060090.ipynb",
      "provenance": []
    },
    "kernelspec": {
      "name": "python3",
      "display_name": "Python 3"
    }
  },
  "cells": [
    {
      "cell_type": "code",
      "metadata": {
        "id": "3nRf2-xW0emn",
        "colab_type": "code",
        "colab": {
          "base_uri": "https://localhost:8080/",
          "height": 170
        },
        "outputId": "44155dd3-db0e-4d51-e47d-7394c44ab504"
      },
      "source": [
        "print(\"歡迎來到電影訂票系統，很高興為您服務！\")\n",
        "while True:\n",
        "  com=input(\"是否繼續購票？（請回答yes或no）\")\n",
        "  if com==\"yes\":\n",
        "    age=int(input(\"請輸入您的年齡？\"))\n",
        "    if age>=18:\n",
        "      print(\"360元\")\n",
        "      N=360\n",
        "      ticket=int(input(\"請輸入您想購買的張數？\"))\n",
        "      E=N*ticket\n",
        "      print(ticket,\"張為\",E)\n",
        "    elif age<18 and age>=12:\n",
        "      print(\"200元\")\n",
        "      U=200\n",
        "      ticket=int(input(\"請輸入您想購買的張數？\"))\n",
        "      F=U*ticket\n",
        "      print(ticket,\"張為\",F)\n",
        "    else:\n",
        "      print(\"免費\")\n",
        "      M=0\n",
        "      ticket=int(input(\"請輸入您想購買的張數？\"))\n",
        "      G=M*ticket\n",
        "      print(ticket,\"張為\",G)\n",
        "  if com==\"no\":\n",
        "    print(\"好的，為您列印明細，請稍候～\")\n",
        "    print(\"請攜帶明細至櫃檯結帳及取票。\")\n",
        "    break\n",
        "    "
      ],
      "execution_count": 4,
      "outputs": [
        {
          "output_type": "stream",
          "text": [
            "歡迎來到電影訂票系統，很高興為您服務！\n",
            "是否繼續購票？（請回答yes或no）yes\n",
            "請輸入您的年齡？22\n",
            "360元\n",
            "請輸入您想購買的張數？2\n",
            "2 張為 720\n",
            "是否繼續購票？（請回答yes或no）no\n",
            "好的，為您列印明細，請稍候～\n",
            "請攜帶明細至櫃檯結帳及取票。\n"
          ],
          "name": "stdout"
        }
      ]
    }
  ]
}