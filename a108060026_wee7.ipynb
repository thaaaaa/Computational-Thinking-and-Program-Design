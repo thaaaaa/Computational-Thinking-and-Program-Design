{
  "nbformat": 4,
  "nbformat_minor": 0,
  "metadata": {
    "colab": {
      "name": "a108060026 wee7.ipynb",
      "provenance": []
    },
    "kernelspec": {
      "name": "python3",
      "display_name": "Python 3"
    }
  },
  "cells": [
    {
      "cell_type": "code",
      "metadata": {
        "id": "pijcpESBqbCg",
        "colab_type": "code",
        "colab": {}
      },
      "source": [
        "korean_drama=\"梨泰院\"#韓劇名稱\n",
        "release_year=\"2020\"#放映時間\n",
        "drama_time_min=60#片長\n",
        "drama_rating=8.8#評分\n",
        "\n"
      ],
      "execution_count": 0,
      "outputs": []
    },
    {
      "cell_type": "code",
      "metadata": {
        "id": "564op4_essJC",
        "colab_type": "code",
        "colab": {
          "base_uri": "https://localhost:8080/",
          "height": 85
        },
        "outputId": "bdd6e097-03c0-456a-876d-946b4aeabe79"
      },
      "source": [
        "print(korean_drama)\n",
        "print(release_year)\n",
        "print(drama_time_min)\n",
        "print(drama_rating)"
      ],
      "execution_count": 5,
      "outputs": [
        {
          "output_type": "stream",
          "text": [
            "梨泰院\n",
            "2020\n",
            "60\n",
            "8.8\n"
          ],
          "name": "stdout"
        }
      ]
    }
  ]
}