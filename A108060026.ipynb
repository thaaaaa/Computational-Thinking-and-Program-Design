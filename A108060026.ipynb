{
  "nbformat": 4,
  "nbformat_minor": 0,
  "metadata": {
    "colab": {
      "name": "A108060026.ipynb",
      "provenance": []
    },
    "kernelspec": {
      "name": "python3",
      "display_name": "Python 3"
    }
  },
  "cells": [
    {
      "cell_type": "code",
      "metadata": {
        "id": "mNMJXiJStbpn",
        "colab_type": "code",
        "colab": {
          "base_uri": "https://localhost:8080/",
          "height": 68
        },
        "outputId": "f2893f9c-8f3a-4d8c-eee5-b2558805ab99"
      },
      "source": [
        "hungry=input(\"輸入會不會餓\")\n",
        "price=input(\"價錢\")\n",
        "bars=input(\"幾條\")\n",
        "\n",
        "if hungry==\"YES\":\n",
        "    if price<10:\n",
        "        bars=100\n",
        "        print(f\"便宜,多買點,買{bars}條\")\n",
        "    if 10<=price<=50:\n",
        "        bars=10\n",
        "        print(f\"還好,買一些,買{bars}條\")\n",
        "    if price>50:\n",
        "        bars=1\n",
        "        print(f\"好貴,買一點,買{bars}條\")\n",
        "\n",
        "if hungry==\"NO\":\n",
        "     bars=0\n",
        "     print(f\"不餓就不買了,買{bars}條\")\n"
      ],
      "execution_count": 22,
      "outputs": [
        {
          "output_type": "stream",
          "text": [
            "輸入會不會餓yes\n",
            "價錢10\n",
            "幾條10\n"
          ],
          "name": "stdout"
        }
      ]
    },
    {
      "cell_type": "code",
      "metadata": {
        "id": "2SQ3VOF0wzjH",
        "colab_type": "code",
        "colab": {
          "base_uri": "https://localhost:8080/",
          "height": 51
        },
        "outputId": "9a59578a-910f-44ad-c6d6-d716973de5f0"
      },
      "source": [
        "day=input(\"輸入星期幾\")\n",
        "\n",
        "if(day==\"星期六\"or day==\"星期天\"):\n",
        "  alarm=\"OFF\"\n",
        "  print(\"今天週末，睡晚一點！\")\n",
        "else:\n",
        "  alarm=\"NO\"\n",
        "  print(\"起床，準備上學！\")"
      ],
      "execution_count": 23,
      "outputs": [
        {
          "output_type": "stream",
          "text": [
            "輸入星期幾星期六\n",
            "今天週末，睡晚一點！\n"
          ],
          "name": "stdout"
        }
      ]
    },
    {
      "cell_type": "code",
      "metadata": {
        "id": "C4VeeApItkpp",
        "colab_type": "code",
        "colab": {
          "base_uri": "https://localhost:8080/",
          "height": 51
        },
        "outputId": "fe6b59e6-19ef-4439-d2a5-ef99a6943ec9"
      },
      "source": [
        "score=int(input(\"輸入一個成績？\"))\n",
        "if score>80:\n",
        "    print(\"非常好！\")\n",
        "if 80>score>=60:\n",
        "    print(\"不錯喔～\")\n",
        "if score<60:\n",
        "    print(\"要加油喔\")"
      ],
      "execution_count": 28,
      "outputs": [
        {
          "output_type": "stream",
          "text": [
            "輸入一個成績？78\n",
            "不錯喔～\n"
          ],
          "name": "stdout"
        }
      ]
    },
    {
      "cell_type": "code",
      "metadata": {
        "id": "cftHPrr05O00",
        "colab_type": "code",
        "colab": {
          "base_uri": "https://localhost:8080/",
          "height": 51
        },
        "outputId": "33a124ef-f8aa-4066-b8e4-52e7b5dd384f"
      },
      "source": [
        "score=input(\"請輸入成績？\")\n",
        "score=int(score)\n",
        "\n",
        "if score>=80:\n",
        "    print(\"Well done!\")\n",
        "if 80>score>=60:\n",
        "    print(\"Good,Pass!\")\n",
        "if score<60:\n",
        "    print(\"Work harrder~\")\n"
      ],
      "execution_count": 30,
      "outputs": [
        {
          "output_type": "stream",
          "text": [
            "請輸入成績？87\n",
            "Well done!\n"
          ],
          "name": "stdout"
        }
      ]
    },
    {
      "cell_type": "code",
      "metadata": {
        "id": "XDZ1MAn6657w",
        "colab_type": "code",
        "colab": {
          "base_uri": "https://localhost:8080/",
          "height": 68
        },
        "outputId": "fcecb302-2dea-4ebd-b6cb-7f3aefe5918d"
      },
      "source": [
        "score=input(\"請輸入成績？\")\n",
        "score=int(score)\n",
        "\n",
        "if score>=80:\n",
        "    print(\"Well done!\")\n",
        "else:\n",
        "  print(\"Oiling\")\n",
        "  if score >=60:\n",
        "      print(\"Good pass\")\n",
        "  else:\n",
        "      print(\"Work harrder~\")"
      ],
      "execution_count": 34,
      "outputs": [
        {
          "output_type": "stream",
          "text": [
            "請輸入成績？60\n",
            "Oiling\n",
            "Good pass\n"
          ],
          "name": "stdout"
        }
      ]
    },
    {
      "cell_type": "code",
      "metadata": {
        "id": "bTbZEtQW8BSS",
        "colab_type": "code",
        "colab": {
          "base_uri": "https://localhost:8080/",
          "height": 51
        },
        "outputId": "99b99991-0b5e-4e18-de34-a3ff40333a7c"
      },
      "source": [
        "score=input(\"請輸入成績？\")\n",
        "score=int(score)\n",
        "\n",
        "if score<60:\n",
        "    print(\"加油啦用功點\")\n",
        "else:\n",
        "  if score <=60:\n",
        "      print(\"Good pass\")\n",
        "  else:\n",
        "      print(\"你超棒！請繼續保持喔\")"
      ],
      "execution_count": 38,
      "outputs": [
        {
          "output_type": "stream",
          "text": [
            "請輸入成績？80\n",
            "你超棒！請繼續保持喔\n"
          ],
          "name": "stdout"
        }
      ]
    },
    {
      "cell_type": "code",
      "metadata": {
        "id": "-AepSJ2_8s8T",
        "colab_type": "code",
        "colab": {
          "base_uri": "https://localhost:8080/",
          "height": 51
        },
        "outputId": "82e66a80-6b94-4551-b609-ea3a2aee9e26"
      },
      "source": [
        "score=input(\"請輸入成績？\")\n",
        "score=int(score)\n",
        "\n",
        "if score>=80:\n",
        "    print(\"Well done!\")\n",
        "elif score >=60:\n",
        "    print(\"good,pass!\")\n",
        "else:\n",
        "    print(\"Work harder\")\n",
        "\n",
        "  "
      ],
      "execution_count": 39,
      "outputs": [
        {
          "output_type": "stream",
          "text": [
            "請輸入成績？77\n",
            "good,pass!\n"
          ],
          "name": "stdout"
        }
      ]
    }
  ]
}