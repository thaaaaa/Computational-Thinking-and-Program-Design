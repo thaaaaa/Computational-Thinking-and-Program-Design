{
  "nbformat": 4,
  "nbformat_minor": 0,
  "metadata": {
    "colab": {
      "name": "A108060026.ipynb",
      "provenance": []
    },
    "kernelspec": {
      "name": "python3",
      "display_name": "Python 3"
    }
  },
  "cells": [
    {
      "cell_type": "code",
      "metadata": {
        "id": "YBgJtxo4rHSN",
        "colab_type": "code",
        "colab": {
          "base_uri": "https://localhost:8080/",
          "height": 51
        },
        "outputId": "bdf1ec2a-dc33-4f63-af90-384503732518"
      },
      "source": [
        "r=input(\"輸入半徑？\")\n",
        "r=int(r)\n",
        "圓面積=3.14*(r**2)\n",
        "print(\"圓面積是\",圓面積)\n"
      ],
      "execution_count": 7,
      "outputs": [
        {
          "output_type": "stream",
          "text": [
            "輸入半徑？5\n",
            "面積是 78.5\n"
          ],
          "name": "stdout"
        }
      ]
    },
    {
      "cell_type": "code",
      "metadata": {
        "id": "_1oCZSaLsaGW",
        "colab_type": "code",
        "colab": {
          "base_uri": "https://localhost:8080/",
          "height": 51
        },
        "outputId": "01e316cc-818d-4fba-dd9b-4576330a72f0"
      },
      "source": [
        "r=input(\"輸入半徑\")\n",
        "r=int(r)\n",
        "圓周長=3.14*(r*2)\n",
        "print(\"圓周長是\",圓周長)"
      ],
      "execution_count": 9,
      "outputs": [
        {
          "output_type": "stream",
          "text": [
            "輸入半徑5\n",
            "圓周長是 31.400000000000002\n"
          ],
          "name": "stdout"
        }
      ]
    },
    {
      "cell_type": "code",
      "metadata": {
        "id": "NSRNvyPdu4l8",
        "colab_type": "code",
        "colab": {
          "base_uri": "https://localhost:8080/",
          "height": 51
        },
        "outputId": "75976113-fda1-4104-ff0b-0a6cadf3e809"
      },
      "source": [
        "C=input(\"輸入攝氏溫度？\")\n",
        "C=float(C)\n",
        "F=C*(9/5)+32\n",
        "print(\"華氏溫度是\",F)"
      ],
      "execution_count": 13,
      "outputs": [
        {
          "output_type": "stream",
          "text": [
            "輸入攝氏溫度？20\n",
            "華氏溫度是 68.0\n"
          ],
          "name": "stdout"
        }
      ]
    },
    {
      "cell_type": "code",
      "metadata": {
        "id": "WWFsfZvGwKcF",
        "colab_type": "code",
        "colab": {
          "base_uri": "https://localhost:8080/",
          "height": 51
        },
        "outputId": "b459ff2f-60c8-4159-f98c-aeaae4e3b48f"
      },
      "source": [
        "座號=int(input('請輸入座號？'))\n",
        "組別=(座號-1)//5+1\n",
        "print('組別為',組別)"
      ],
      "execution_count": 3,
      "outputs": [
        {
          "output_type": "stream",
          "text": [
            "請輸入座號？19\n",
            "組別為 4\n"
          ],
          "name": "stdout"
        }
      ]
    },
    {
      "cell_type": "code",
      "metadata": {
        "id": "ZqQHgGpZHq0N",
        "colab_type": "code",
        "colab": {
          "base_uri": "https://localhost:8080/",
          "height": 85
        },
        "outputId": "42fc45af-24a4-4187-9165-64df19dc6413"
      },
      "source": [
        "T=int(input(\"請輸入上衣數量？\"))\n",
        "P=int(input(\"請輸入褲子數量？\"))\n",
        "V=int(input(\"請輸入背心數量？\"))\n",
        "總金額=(300*T)+(350*P)+(400*V)\n",
        "print('總金額為',總金額)"
      ],
      "execution_count": 5,
      "outputs": [
        {
          "output_type": "stream",
          "text": [
            "請輸入上衣數量？1\n",
            "請輸入褲子數量？1\n",
            "請輸入背心數量？1\n",
            "總金額為 1050\n"
          ],
          "name": "stdout"
        }
      ]
    },
    {
      "cell_type": "code",
      "metadata": {
        "id": "X7Tzsy5bMdZ3",
        "colab_type": "code",
        "colab": {
          "base_uri": "https://localhost:8080/",
          "height": 51
        },
        "outputId": "0a7b5eb9-41ac-4416-bd7a-7dfd6fc7f62f"
      },
      "source": [
        "C=int(input(\"請輸入需要的飲料罐數？\"))\n",
        "總金額=(C%12*20)+(C//12*200)\n",
        "print('總共',總金額,'元')"
      ],
      "execution_count": 7,
      "outputs": [
        {
          "output_type": "stream",
          "text": [
            "請輸入需要的飲料罐數？13\n",
            "總共 220 元\n"
          ],
          "name": "stdout"
        }
      ]
    },
    {
      "cell_type": "code",
      "metadata": {
        "id": "2kd7OWX8Rioh",
        "colab_type": "code",
        "colab": {
          "base_uri": "https://localhost:8080/",
          "height": 102
        },
        "outputId": "d9ef2c1d-b0a3-4fdc-8296-4d8dc3aa7ddb"
      },
      "source": [
        "E1=int(input(\"請輸入第一次期中考成績？\"))\n",
        "E2=int(input(\"請輸入第二次期中考成績？\"))\n",
        "E3=int(input(\"請輸入期末考成績？\"))\n",
        "總成績=E1+E2+E3\n",
        "平均=總成績/3\n",
        "print('總成績為',總成績,'分')\n",
        "print('平均為',平均,'分')"
      ],
      "execution_count": 9,
      "outputs": [
        {
          "output_type": "stream",
          "text": [
            "請輸入第一次期中考成績？80\n",
            "請輸入第二次期中考成績？80\n",
            "請輸入期末考成績？80\n",
            "總成績為 240 分\n",
            "平均為 80.0 分\n"
          ],
          "name": "stdout"
        }
      ]
    }
  ]
}