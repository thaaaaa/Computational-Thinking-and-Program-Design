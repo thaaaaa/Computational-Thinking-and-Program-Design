{
  "nbformat": 4,
  "nbformat_minor": 0,
  "metadata": {
    "colab": {
      "name": "A108060026.ipynb",
      "provenance": []
    },
    "kernelspec": {
      "name": "python3",
      "display_name": "Python 3"
    }
  },
  "cells": [
    {
      "cell_type": "code",
      "metadata": {
        "id": "pGAmXE9yz9rD",
        "colab_type": "code",
        "colab": {
          "base_uri": "https://localhost:8080/",
          "height": 68
        },
        "outputId": "864c0dd8-cdd8-43b2-848d-cc54379b1219"
      },
      "source": [
        "num=input(\"Enter a number:\")\n",
        "num=int(num)\n",
        "\n",
        "if num >0:\n",
        "  print(\"Positive number\")\n",
        "if num <0:\n",
        "  print(\"Negative number\")\n",
        "if num==0:\n",
        "  print(\"zero\")\n",
        "print(\"End\")"
      ],
      "execution_count": 1,
      "outputs": [
        {
          "output_type": "stream",
          "text": [
            "Enter a number:7\n",
            "Positive number\n",
            "End\n"
          ],
          "name": "stdout"
        }
      ]
    },
    {
      "cell_type": "code",
      "metadata": {
        "id": "DCQOTBWp2BnV",
        "colab_type": "code",
        "colab": {
          "base_uri": "https://localhost:8080/",
          "height": 102
        },
        "outputId": "409d8cc3-e6b0-46fc-e216-4eb5619205b8"
      },
      "source": [
        "num_1=int(input(\"Enter a number\"))\n",
        "num_2=int(input(\"Enter a number\"))\n",
        "\n",
        "if num_1 >0:\n",
        "  print(\"Great,positive number!\")\n",
        "  if num_2==14:\n",
        "    print(\"Wonderful,I win.\")\n",
        "\n",
        "\n",
        "print(\"End\")"
      ],
      "execution_count": 3,
      "outputs": [
        {
          "output_type": "stream",
          "text": [
            "Enter a number28\n",
            "Enter a number14\n",
            "Great,positive number!\n",
            "Wonderful,I win.\n",
            "End\n"
          ],
          "name": "stdout"
        }
      ]
    },
    {
      "cell_type": "code",
      "metadata": {
        "id": "_OLQ5His4bWG",
        "colab_type": "code",
        "colab": {
          "base_uri": "https://localhost:8080/",
          "height": 68
        },
        "outputId": "9db3cb29-1e0e-46ac-9892-22bc4a96ca5e"
      },
      "source": [
        "noodle=input(\"有麵嗎？（YES/NO)\")\n",
        "sauce=input(\"有醬料嗎？（YES/NO)\")\n",
        "\n",
        "if noodle==\"YES\":\n",
        "  if sauce==\"YES\":\n",
        "    print(\"可做義大利麵！\")\n",
        "\n",
        "print(\"Well done!\")"
      ],
      "execution_count": 4,
      "outputs": [
        {
          "output_type": "stream",
          "text": [
            "有麵嗎？（YES/NO)Yes\n",
            "有醬料嗎？（YES/NO)Yes\n",
            "Well done!\n"
          ],
          "name": "stdout"
        }
      ]
    },
    {
      "cell_type": "code",
      "metadata": {
        "id": "aV2YbjXK5Xn3",
        "colab_type": "code",
        "colab": {
          "base_uri": "https://localhost:8080/",
          "height": 68
        },
        "outputId": "3b7f9888-0deb-49a4-a0f3-9c660d2a72a5"
      },
      "source": [
        "noodle=input(\"有麵嗎？（YES/NO)\")\n",
        "sauce=input(\"有醬料嗎？（YES/NO)\")\n",
        "\n",
        "if noodle==\"YES\"and sauce==\"YES\":\n",
        "  print(\"今晚吃義大利麵嗎？\")\n",
        "\n",
        "print(\"Well done!\")"
      ],
      "execution_count": 5,
      "outputs": [
        {
          "output_type": "stream",
          "text": [
            "有麵嗎？（YES/NO)yes\n",
            "有醬料嗎？（YES/NO)yes\n",
            "Well done!\n"
          ],
          "name": "stdout"
        }
      ]
    }
  ]
}